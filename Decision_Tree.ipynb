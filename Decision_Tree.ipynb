{
  "nbformat": 4,
  "nbformat_minor": 0,
  "metadata": {
    "colab": {
      "provenance": [],
      "authorship_tag": "ABX9TyNvnFeDQd+LRKKJmddFZ18I",
      "include_colab_link": true
    },
    "kernelspec": {
      "name": "python3",
      "display_name": "Python 3"
    },
    "language_info": {
      "name": "python"
    }
  },
  "cells": [
    {
      "cell_type": "markdown",
      "metadata": {
        "id": "view-in-github",
        "colab_type": "text"
      },
      "source": [
        "<a href=\"https://colab.research.google.com/github/hiral-codes/ML-Algo/blob/main/Decision_Tree.ipynb\" target=\"_parent\"><img src=\"https://colab.research.google.com/assets/colab-badge.svg\" alt=\"Open In Colab\"/></a>"
      ]
    },
    {
      "cell_type": "code",
      "execution_count": null,
      "metadata": {
        "id": "_Zm0H4mbYm2C"
      },
      "outputs": [],
      "source": [
        "# DRUG A - 5\n",
        "# DRUG B - 9\n",
        "\n",
        "# High Cholestrol - DRUG A - 3\n",
        "# High Cholestrol - DRUG B - 3\n",
        "\n",
        "# Normal Cholestrol - DRUG A - 2\n",
        "# Normal Cholestrol - DRUG B - 6\n",
        "\n",
        "# ////Entropy\n",
        "# In Machine Learning, entropy measures the level of disorder or uncertainty in a given dataset or system.\n",
        "# It is a metric that quantifies the amount of information in a dataset, and it is commonly used to evaluate the quality of a model and its ability to make accurate predictions\n",
        "\n",
        "# Formula:\n",
        "# \t-pa*log(pa) - pb*log(pb)\n",
        "\n",
        "# \tPA=5/14\n",
        "# \tPB=9/14"
      ]
    },
    {
      "cell_type": "code",
      "source": [
        "import numpy as np\n",
        "\n",
        "pa=5/14\n",
        "pb=9/14"
      ],
      "metadata": {
        "id": "tJZHtDdSYrxh"
      },
      "execution_count": 3,
      "outputs": []
    },
    {
      "cell_type": "code",
      "source": [
        "-pa*np.log2(pa)-pb*np.log2(pb)"
      ],
      "metadata": {
        "colab": {
          "base_uri": "https://localhost:8080/"
        },
        "id": "ZGQ3B-oeYxrS",
        "outputId": "1a76f338-883b-489d-8116-672957e67cd2"
      },
      "execution_count": 5,
      "outputs": [
        {
          "output_type": "execute_result",
          "data": {
            "text/plain": [
              "0.9402859586706311"
            ]
          },
          "metadata": {},
          "execution_count": 5
        }
      ]
    },
    {
      "cell_type": "code",
      "source": [
        "# Normal Cholestrol\n",
        "pa=6/8\n",
        "pb=2/8\n",
        "-pa*np.log2(pa)-pb*np.log2(pb)"
      ],
      "metadata": {
        "colab": {
          "base_uri": "https://localhost:8080/"
        },
        "id": "4f2hJ8oPY8N1",
        "outputId": "2dbf35eb-7468-4385-acc1-1948b19ea583"
      },
      "execution_count": 6,
      "outputs": [
        {
          "output_type": "execute_result",
          "data": {
            "text/plain": [
              "0.8112781244591328"
            ]
          },
          "metadata": {},
          "execution_count": 6
        }
      ]
    },
    {
      "cell_type": "code",
      "source": [
        "#Male\n",
        "pa=6/7\n",
        "pb=1/7\n",
        "-pa*np.log2(pa)-pb*np.log2(pb)"
      ],
      "metadata": {
        "colab": {
          "base_uri": "https://localhost:8080/"
        },
        "id": "hNXSlqsNZvCl",
        "outputId": "c0fb3f12-c616-487a-9e3a-cb14e42ac0f1"
      },
      "execution_count": 7,
      "outputs": [
        {
          "output_type": "execute_result",
          "data": {
            "text/plain": [
              "0.5916727785823275"
            ]
          },
          "metadata": {},
          "execution_count": 7
        }
      ]
    },
    {
      "cell_type": "code",
      "source": [],
      "metadata": {
        "id": "Owmoz71xaHVk"
      },
      "execution_count": null,
      "outputs": []
    }
  ]
}